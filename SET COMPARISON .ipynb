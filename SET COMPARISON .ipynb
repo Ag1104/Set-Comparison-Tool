{
 "cells": [
  {
   "cell_type": "markdown",
   "id": "42f4bb65",
   "metadata": {},
   "source": [
    "# SET COMPARISON"
   ]
  },
  {
   "cell_type": "code",
   "execution_count": 69,
   "id": "77eb8e84",
   "metadata": {},
   "outputs": [
    {
     "name": "stdout",
     "output_type": "stream",
     "text": [
      "Enter values: 1,2,3,4,5\n",
      "Enter values: 1,2,3,6,7,8\n",
      "Union: {'4', '6', '1', '8', '7', '2', '5', '3'}\n",
      "Intersection: {'1', '2', '3'}\n",
      "Differences: {'5', '4'}\n",
      "Subset: False\n"
     ]
    }
   ],
   "source": [
    "set_one = (input(\"Enter values: \"))\n",
    "list_form = set_one.split(\",\")\n",
    "list_form.sort()\n",
    "real_set = set(list_form)\n",
    "\n",
    "set_two = (input(\"Enter values: \"))\n",
    "list_form_2 = set_two.split(\",\")\n",
    "list_form_2.sort()\n",
    "real_set_two = set(list_form_2)\n",
    "real_set, real_set_two\n",
    "\n",
    "the_union = real_set|real_set_two\n",
    "the_intersection = real_set&real_set_two\n",
    "the_differences = real_set - real_set_two\n",
    "sub_set = real_set <= real_set_two\n",
    "print(f\"Union: {the_union}\\nIntersection: {the_intersection}\\nDifferences: {the_differences}\\nSubset: {sub_set}\")"
   ]
  },
  {
   "cell_type": "code",
   "execution_count": null,
   "id": "3da87b16",
   "metadata": {},
   "outputs": [],
   "source": []
  }
 ],
 "metadata": {
  "kernelspec": {
   "display_name": "Python 3 (ipykernel)",
   "language": "python",
   "name": "python3"
  },
  "language_info": {
   "codemirror_mode": {
    "name": "ipython",
    "version": 3
   },
   "file_extension": ".py",
   "mimetype": "text/x-python",
   "name": "python",
   "nbconvert_exporter": "python",
   "pygments_lexer": "ipython3",
   "version": "3.11.5"
  }
 },
 "nbformat": 4,
 "nbformat_minor": 5
}
